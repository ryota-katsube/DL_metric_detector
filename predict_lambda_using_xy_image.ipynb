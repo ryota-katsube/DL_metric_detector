{
 "cells": [
  {
   "cell_type": "markdown",
   "metadata": {
    "id": "6XVafhRmMKe0"
   },
   "source": [
    "# Goal of this python notebook"
   ]
  },
  {
   "cell_type": "markdown",
   "metadata": {
    "id": "Ez-DpKsMKZvy"
   },
   "source": [
    "In this python notebook, we see that a DL model is able to predict $ λ$ , which characterizes the metric of 2+1 AdS, $$ ds^2 = -(1+λ^2 r^2)dt^2 + \\frac{dr^2}{1+ λ^2 r^2} + dϕ^2,\n",
    "$$ by a simulation using $(x, y)$ images of  free particles geodesics, where $x = r \\cos \\phi$ and $y = r \\sin \\phi$."
   ]
  },
  {
   "cell_type": "markdown",
   "metadata": {
    "id": "ngjJay8qrB1n"
   },
   "source": [
    "# Import library"
   ]
  },
  {
   "cell_type": "markdown",
   "metadata": {
    "id": "JEiGOOxoMW6h"
   },
   "source": [
    "We first import some libraries."
   ]
  },
  {
   "cell_type": "code",
   "execution_count": 1,
   "metadata": {
    "id": "rekN8L3USMAq"
   },
   "outputs": [],
   "source": [
    "import numpy as np\n",
    "import matplotlib.pyplot as plt\n",
    "from keras.utils import np_utils\n",
    "from keras.models import Sequential\n",
    "from keras.layers import Dense, Dropout, Flatten\n",
    "from keras.layers.convolutional import  Conv2D\n",
    "from keras.layers.pooling import  MaxPooling2D\n",
    "from skimage.color import gray2rgb"
   ]
  },
  {
   "cell_type": "markdown",
   "metadata": {
    "id": "H7oln87SYEOY"
   },
   "source": [
    "# Mounting the google drive"
   ]
  },
  {
   "cell_type": "markdown",
   "metadata": {
    "id": "h-AJR-qVYKW-"
   },
   "source": [
    "To save the dataset we will generate, we utilize the google drive in this notebook. So we have to mount the google drive."
   ]
  },
  {
   "cell_type": "code",
   "execution_count": 3,
   "metadata": {
    "colab": {
     "base_uri": "https://localhost:8080/"
    },
    "id": "PynGTdtbuCMU",
    "outputId": "5c88a03e-0c60-4f8e-8f89-89c9b9869364"
   },
   "outputs": [
    {
     "name": "stdout",
     "output_type": "stream",
     "text": [
      "Mounted at /content/drive\n"
     ]
    }
   ],
   "source": [
    "from google.colab import drive\n",
    "drive.mount(\"/content/drive\")"
   ]
  },
  {
   "cell_type": "markdown",
   "metadata": {
    "id": "nCfKjYDsW3sH"
   },
   "source": [
    "# Generate data"
   ]
  },
  {
   "cell_type": "markdown",
   "metadata": {
    "id": "PD0Ophl4NHGR"
   },
   "source": [
    "We first generate $(x,y)$ images of geodesics using the solution of the equation of motion of free particles in 2+1 AdS,\n",
    "$$ r = \\frac{1}{λ} \\sqrt{E - \\sqrt{E^2 - λ^2 L^2} \\sin2 λ \\tau},$$\n",
    "$$\\phi = \\pm \\arctan \\left[  \\frac{E}{\\lambda L} \\left( \\tan λ \\tau - \\sqrt{1 - \\left( \\frac{λ L }{E}\\right)^2} \\right)\\right] + \\phi_0, $$\n",
    "$$ t = \\frac{1}{\\lambda} \\arctan \\left[ \\frac{(1+E)\\tanλ\\tau - \\sqrt{E^2 - λ^2 L^2}}{\\sqrt{1+2E+λ^2 L^2}} \\right] + t_0 ,$$\n",
    "where $E$  is a positive constant associated with energy, $L$ is a real constant associated with angular momentum, and\n",
    "$t_0$ $(ϕ_0)$ is an integration constant for $t (ϕ )$."
   ]
  },
  {
   "cell_type": "markdown",
   "metadata": {
    "id": "VBGw74FvPZnP"
   },
   "source": [
    "We generate $\\lambda$, $E$, $L$, $t_0$ and $\\phi_0$ at random. We set the range of them to \n",
    "$ 0 \\leq E < 10$, $0 \\leq L < \\frac{E}{λ}$ , $ 0 \\leq \\phi_0 <2 \\pi$ and $ 0 \\leq t_0 <2 \\pi$. \n",
    "The value of $λ$ is chosen as an integer between 1 and 4 for simplity."
   ]
  },
  {
   "cell_type": "code",
   "execution_count": 4,
   "metadata": {
    "id": "mBrvrciyupbM"
   },
   "outputs": [],
   "source": [
    "def generate_initial_state(num_particle):\n",
    "  # num_particle means the number of particles/trajectories in one image.\n",
    "\n",
    "  # lambda_rand means the value of lambda in 2+1 AdS metric.\n",
    "  lambda_rand  = np.random.randint(1,5) # 1 <= \\lambda <5 to avoid singularity \n",
    "\n",
    "  E_rand = np.random.rand(num_particle)*10 # E_rand represents E.\n",
    "  L_rand =  np.random.rand(num_particle)* E_rand / lambda_rand # L_rand represents L.\n",
    "  phi_rand = np.random.rand(num_particle)* 2 *np.pi - np.pi #phi_rand represents \\phi_0.\n",
    "  \n",
    "  return E_rand,L_rand,phi_rand,lambda_rand"
   ]
  },
  {
   "cell_type": "markdown",
   "metadata": {
    "id": "NnAZ0RVBSZNF"
   },
   "source": [
    "We calculate the geodesic of one particle using the solution of the equation of motion. "
   ]
  },
  {
   "cell_type": "code",
   "execution_count": 5,
   "metadata": {
    "id": "NAi7ey7hvdMh"
   },
   "outputs": [],
   "source": [
    "def time_evolve(t,E,L,lambda0,phi0):\n",
    "  r = 1 / lambda0 *  np.sqrt(E - np.sqrt(E ** 2 - (lambda0 ** 2) * (L ** 2) ) * np.sin(2 * lambda0 * t) )\n",
    "\n",
    "  Y = E * (np.tan(lambda0 * t) - np.sqrt(1- (lambda0 * L / E)**2 ) )\n",
    "  X = lambda0 * L\n",
    "  phi = np.arctan2(Y,X) + phi0\n",
    "  return r,phi"
   ]
  },
  {
   "cell_type": "markdown",
   "metadata": {
    "id": "rDvK399DTjpW"
   },
   "source": [
    "We make numpy arrays which are utilized to get one image."
   ]
  },
  {
   "cell_type": "code",
   "execution_count": 6,
   "metadata": {
    "id": "NvBF8Dh2mxBe"
   },
   "outputs": [],
   "source": [
    "def generate_xy2_one_data(num_particle):\n",
    "\n",
    "  delta_t = 0.005 #delta_t represents the slice of \\tau.\n",
    "\n",
    "  # Because \\tau is the argument of trigonometric functions sin(2 \\lambda \\tau) and tan(\\lambda \\tau), we can set the range of $\\tau$ to $ 0 \\leq \\tau < \\pi.\n",
    "  time_frame = int(np.ceil(np.pi / delta_t)) # tau_frame is the number of frames.\n",
    "\n",
    "  # setting the number of pixels in a image.\n",
    "  pixel_num = 200\n",
    "  \n",
    "  # setting the width and height of images. 10 comes from the maximum value of E we set.\n",
    "  h = 10\n",
    "  \n",
    "  #delta_xy represents the slice of images.\n",
    "  delta_xy = h/pixel_num \n",
    "\n",
    "  E_rand, L_rand,phi_rand,lambda_rand = generate_initial_state(num_particle)\n",
    "  \n",
    "  #\\phi has a freedom of sign and we assign the sign by binomial random variables. \n",
    "  sign = np.random.binomial(1,0.5,size=num_particle)\n",
    " \n",
    "\n",
    "  temp = []\n",
    "  # obtaining (x,y) arrays from  (r,\\phi) arrays.\n",
    "  for i in range(0,time_frame): \n",
    "    # i is the counter for the frame number.\n",
    "\n",
    "      for j in range(num_particle):\n",
    "        # j is the counter for the particle number.\n",
    "\n",
    "        r,phi = time_evolve(i * delta_t, E_rand[j],L_rand[j],lambda_rand,phi_rand[j])\n",
    "        x = ((-1) ** sign[j]  )   * r * np.cos(phi)\n",
    "        y =  r * np.sin(phi)\n",
    "\n",
    "        # discretizing x and y by delta_xy. h/2 is the origin of the plot\n",
    "        temp.append( [int(np.floor((x+h/2)/delta_xy)), int(np.floor((y+h/2)/delta_xy))])\n",
    "        temp.append( [int(np.floor((-x+h/2)/delta_xy)), int(np.floor((-y+h/2)/delta_xy))])\n",
    "\n",
    "  xy_image = np.zeros([pixel_num, pixel_num,1])\n",
    "  for item in temp:\n",
    "      x = int(item[0])\n",
    "      y = int(item[1])\n",
    "      xy_image[x,y,0] = 1\n",
    "  \n",
    "  return xy_image,lambda_rand"
   ]
  },
  {
   "cell_type": "markdown",
   "metadata": {
    "id": "-XFzdwHhZr4T"
   },
   "source": [
    "We make $(x, y)$ image dataset using generate_xy2_one_data function we defined."
   ]
  },
  {
   "cell_type": "code",
   "execution_count": 7,
   "metadata": {
    "id": "rFdNAJn5xtub"
   },
   "outputs": [],
   "source": [
    "def generate_xy2_data(num_data,num_particle):\n",
    "  data_x = [] # to save xy images\n",
    "  data_y = [] # to save lambda values\n",
    "  for i in range(num_data):\n",
    "    x,y = generate_xy2_one_data(num_particle)\n",
    "    data_x.append(x)\n",
    "    data_y.append(y)\n",
    "\n",
    "  return data_x,data_y"
   ]
  },
  {
   "cell_type": "markdown",
   "metadata": {
    "id": "DbEJjhGOXqnB"
   },
   "source": [
    "We set num_particle = 10  and num_data = 2000 and generate dataset  using functions we defined above."
   ]
  },
  {
   "cell_type": "code",
   "execution_count": 8,
   "metadata": {
    "id": "ryFzDRWfxlCS"
   },
   "outputs": [],
   "source": [
    "# setting parameters\n",
    "num_particle = 10\n",
    "num_learning_data = 2000 #should be multiple of 2000\n",
    "\n",
    "# generating 1400 training data, 400 validation data and 200 test data.\n",
    "x_train,y_train = generate_xy2_data(int(0.7*num_learning_data),num_particle)\n",
    "x_vali,y_vali = generate_xy2_data(int(0.2*num_learning_data),num_particle)\n",
    "x_test,y_test = generate_xy2_data(int(0.1*num_learning_data),num_particle)\n",
    "\n",
    "x_train = np.array(x_train)\n",
    "x_vali = np.array(x_vali)\n",
    "x_test = np.array(x_test)\n",
    "\n",
    "y_train = np.array(y_train)\n",
    "y_vali = np.array(y_vali)\n",
    "y_test = np.array(y_test)"
   ]
  },
  {
   "cell_type": "markdown",
   "metadata": {
    "id": "v7ej8wDDYe7a"
   },
   "source": [
    "We save the dataset numpy array in the google drive. Note that you may have to replace the file path which shows where the dataset array is saved, according to your folder structure. "
   ]
  },
  {
   "cell_type": "code",
   "execution_count": 9,
   "metadata": {
    "id": "xnIflR3nBWOX"
   },
   "outputs": [],
   "source": [
    "# saving the data in npz file\n",
    "# replacing the file path accodring to your coding environment.\n",
    "file_path = \"/content/drive/My Drive/Colab Notebooks/metric_detecter_public\"\n",
    "# You can replace the  \"/3d_raw_array\" to your favorite name of npz file.\n",
    "np.savez_compressed(file_path + '/dataset_array_xy', x_train, y_train,x_vali,y_vali,x_test,y_test)"
   ]
  },
  {
   "cell_type": "markdown",
   "metadata": {
    "id": "4NE5rxqO9FA6"
   },
   "source": [
    "# Printing some images and Preprocessing"
   ]
  },
  {
   "cell_type": "markdown",
   "metadata": {
    "id": "mLYC6XIGGxhO"
   },
   "source": [
    "We perform some preprocessing and print some $(x,y)$ images."
   ]
  },
  {
   "cell_type": "code",
   "execution_count": 11,
   "metadata": {
    "id": "72iHdy-nBbOl"
   },
   "outputs": [],
   "source": [
    "#reloading the data from npz file\n",
    "#replacing the file path accodring to your coding environment.\n",
    "file_path = \"/content/drive/My Drive/Colab Notebooks/metric_detecter_public\"\n",
    "dataset_array = np.load(file_path + '/dataset_array_xy.npz')\n",
    "x_train = dataset_array[\"arr_0\"]\n",
    "y_train = dataset_array[\"arr_1\"]\n",
    "x_vali = dataset_array[\"arr_2\"]\n",
    "y_vali = dataset_array[\"arr_3\"]\n",
    "x_test = dataset_array[\"arr_4\"]\n",
    "y_test = dataset_array[\"arr_5\"]"
   ]
  },
  {
   "cell_type": "code",
   "execution_count": 12,
   "metadata": {
    "id": "GDfd0uz1exBI"
   },
   "outputs": [],
   "source": [
    "# converting target labels to one-hot vectors\n",
    "y_train_one_hot = np_utils.to_categorical(y_train-1)\n",
    "y_vali_one_hot = np_utils.to_categorical(y_vali-1)\n",
    "y_test_one_hot = np_utils.to_categorical(y_test-1)"
   ]
  },
  {
   "cell_type": "code",
   "execution_count": 13,
   "metadata": {
    "id": "BgYC2zI0anSB"
   },
   "outputs": [],
   "source": [
    "# converting dataset to black and white images\n",
    "x_train= gray2rgb(x_train[:,:,:,0])\n",
    "x_vali= gray2rgb(x_vali[:,:,:,0])\n",
    "x_test= gray2rgb(x_test[:,:,:,0])"
   ]
  },
  {
   "cell_type": "code",
   "execution_count": 14,
   "metadata": {
    "colab": {
     "base_uri": "https://localhost:8080/",
     "height": 1000
    },
    "id": "-kfPH9Cs60ie",
    "outputId": "a138fe1b-fbfa-46d9-a218-8c0fc70b3b45"
   },
   "outputs": [
    {
     "name": "stdout",
     "output_type": "stream",
     "text": [
      "value of lambda: 3\n"
     ]
    },
    {
     "data": {
      "image/png": "[encoded data removed]",
      "text/plain": [
       "<Figure size 432x288 with 1 Axes>"
      ]
     },
     "metadata": {
      "needs_background": "light"
     },
     "output_type": "display_data"
    },
    {
     "name": "stdout",
     "output_type": "stream",
     "text": [
      "value of lambda: 4\n"
     ]
    },
    {
     "data": {
      "image/png": "[encoded data removed]",
      "text/plain": [
       "<Figure size 432x288 with 1 Axes>"
      ]
     },
     "metadata": {
      "needs_background": "light"
     },
     "output_type": "display_data"
    },
    {
     "name": "stdout",
     "output_type": "stream",
     "text": [
      "value of lambda: 4\n"
     ]
    },
    {
     "data": {
      "image/png": "[encoded data removed]",
      "text/plain": [
       "<Figure size 432x288 with 1 Axes>"
      ]
     },
     "metadata": {
      "needs_background": "light"
     },
     "output_type": "display_data"
    },
    {
     "name": "stdout",
     "output_type": "stream",
     "text": [
      "value of lambda: 1\n"
     ]
    },
    {
     "data": {
      "image/png": "[encoded data removed]",
      "text/plain": [
       "<Figure size 432x288 with 1 Axes>"
      ]
     },
     "metadata": {
      "needs_background": "light"
     },
     "output_type": "display_data"
    }
   ],
   "source": [
    "# printing some examples of images\n",
    "for i in range(4):\n",
    "  plt.imshow(x_train[i][:,:])\n",
    "  \n",
    "  print(\"value of lambda:\",y_train[i])\n",
    "  plt.show()"
   ]
  },
  {
   "cell_type": "markdown",
   "metadata": {
    "id": "IvqOHIAvwh76"
   },
   "source": [
    "# Training a DL model"
   ]
  },
  {
   "cell_type": "markdown",
   "metadata": {
    "id": "c1MFRTforwyb"
   },
   "source": [
    "Here, we train a DL model.  We use CNN. It's structure is the following."
   ]
  },
  {
   "cell_type": "code",
   "execution_count": 15,
   "metadata": {
    "colab": {
     "base_uri": "https://localhost:8080/"
    },
    "id": "J9afMag1Ohz2",
    "outputId": "273d442f-0cd1-4a65-82df-ec07af716fec"
   },
   "outputs": [
    {
     "name": "stdout",
     "output_type": "stream",
     "text": [
      "Model: \"sequential\"\n",
      "_________________________________________________________________\n",
      " Layer (type)                Output Shape              Param #   \n",
      "=================================================================\n",
      " conv2d (Conv2D)             (None, 200, 200, 5)       380       \n",
      "                                                                 \n",
      " max_pooling2d (MaxPooling2D  (None, 67, 67, 5)        0         \n",
      " )                                                               \n",
      "                                                                 \n",
      " conv2d_1 (Conv2D)           (None, 67, 67, 5)         630       \n",
      "                                                                 \n",
      " max_pooling2d_1 (MaxPooling  (None, 23, 23, 5)        0         \n",
      " 2D)                                                             \n",
      "                                                                 \n",
      " conv2d_2 (Conv2D)           (None, 23, 23, 5)         230       \n",
      "                                                                 \n",
      " max_pooling2d_2 (MaxPooling  (None, 8, 8, 5)          0         \n",
      " 2D)                                                             \n",
      "                                                                 \n",
      " conv2d_3 (Conv2D)           (None, 8, 8, 3)           138       \n",
      "                                                                 \n",
      " max_pooling2d_3 (MaxPooling  (None, 4, 4, 3)          0         \n",
      " 2D)                                                             \n",
      "                                                                 \n",
      " conv2d_4 (Conv2D)           (None, 4, 4, 2)           26        \n",
      "                                                                 \n",
      " flatten (Flatten)           (None, 32)                0         \n",
      "                                                                 \n",
      " dropout (Dropout)           (None, 32)                0         \n",
      "                                                                 \n",
      " dense (Dense)               (None, 10)                330       \n",
      "                                                                 \n",
      " dense_1 (Dense)             (None, 4)                 44        \n",
      "                                                                 \n",
      "=================================================================\n",
      "Total params: 1,778\n",
      "Trainable params: 1,778\n",
      "Non-trainable params: 0\n",
      "_________________________________________________________________\n"
     ]
    }
   ],
   "source": [
    "input_shape = x_train[0,:,:,:].shape\n",
    "model = Sequential()\n",
    "model.add(Conv2D(5, (5,5), strides=(1, 1), input_shape=input_shape,padding='same', dilation_rate=(1, 1),activation='tanh', use_bias=True))\n",
    "model.add(MaxPooling2D(pool_size=(3, 3), padding='same'))\n",
    "model.add(Conv2D(5, (5,5), strides=(1, 1),padding='same',activation='tanh', use_bias=True))\n",
    "model.add(MaxPooling2D(pool_size=(3, 3), padding='same'))\n",
    "model.add(Conv2D(5, (3,3), strides=(1, 1),padding='same',activation='tanh', use_bias=True))\n",
    "model.add(MaxPooling2D(pool_size=(3, 3), padding='same'))\n",
    "model.add(Conv2D(3, (3,3), strides=(1, 1),padding='same',activation='tanh', use_bias=True))\n",
    "model.add(MaxPooling2D(pool_size=(2, 2), padding='same'))\n",
    "model.add(Conv2D(2, (2,2), strides=(1, 1),padding='same',activation='tanh', use_bias=True))\n",
    "model.add(Flatten())\n",
    "model.add(Dropout(0.5))\n",
    "model.add(Dense(10,activation='tanh'))\n",
    "model.add(Dense(4,activation='softmax'))\n",
    "model.summary()"
   ]
  },
  {
   "cell_type": "markdown",
   "metadata": {
    "id": "sCdGT7l2vKzE"
   },
   "source": [
    "The loss function of this task is the categorical crossentropy and we use ADAM as a optimizer. We train the model for 150 epochs."
   ]
  },
  {
   "cell_type": "code",
   "execution_count": 16,
   "metadata": {
    "colab": {
     "base_uri": "https://localhost:8080/"
    },
    "id": "s4UIPgrLPMZ9",
    "outputId": "69178ba0-8188-466c-ed21-8c34e1b13002"
   },
   "outputs": [
    {
     "name": "stdout",
     "output_type": "stream",
     "text": [
      "Epoch 1/150\n",
      "14/14 [==============================] - 13s 50ms/step - loss: 1.3770 - accuracy: 0.2471 - val_loss: 1.3360 - val_accuracy: 0.4050\n",
      "Epoch 2/150\n",
      "14/14 [==============================] - 0s 25ms/step - loss: 1.3202 - accuracy: 0.3971 - val_loss: 1.2613 - val_accuracy: 0.5650\n",
      "Epoch 3/150\n",
      "14/14 [==============================] - 0s 24ms/step - loss: 1.2380 - accuracy: 0.4871 - val_loss: 1.1552 - val_accuracy: 0.6900\n",
      "Epoch 4/150\n",
      "14/14 [==============================] - 0s 25ms/step - loss: 1.1368 - accuracy: 0.6029 - val_loss: 1.0244 - val_accuracy: 0.7500\n",
      "Epoch 5/150\n",
      "14/14 [==============================] - 0s 24ms/step - loss: 1.0042 - accuracy: 0.7029 - val_loss: 0.8690 - val_accuracy: 0.8100\n",
      "Epoch 6/150\n",
      "14/14 [==============================] - 0s 24ms/step - loss: 0.8773 - accuracy: 0.7671 - val_loss: 0.7140 - val_accuracy: 0.8900\n",
      "Epoch 7/150\n",
      "14/14 [==============================] - 0s 23ms/step - loss: 0.7480 - accuracy: 0.8114 - val_loss: 0.5770 - val_accuracy: 0.9400\n",
      "Epoch 8/150\n",
      "14/14 [==============================] - 0s 28ms/step - loss: 0.6339 - accuracy: 0.8343 - val_loss: 0.4788 - val_accuracy: 0.9400\n",
      "Epoch 9/150\n",
      "14/14 [==============================] - 0s 24ms/step - loss: 0.5507 - accuracy: 0.8971 - val_loss: 0.4071 - val_accuracy: 0.9650\n",
      "Epoch 10/150\n",
      "14/14 [==============================] - 0s 24ms/step - loss: 0.4731 - accuracy: 0.9171 - val_loss: 0.3483 - val_accuracy: 0.9550\n",
      "Epoch 11/150\n",
      "14/14 [==============================] - 0s 25ms/step - loss: 0.4295 - accuracy: 0.9171 - val_loss: 0.3182 - val_accuracy: 0.9700\n",
      "Epoch 12/150\n",
      "14/14 [==============================] - 0s 24ms/step - loss: 0.3809 - accuracy: 0.9357 - val_loss: 0.2803 - val_accuracy: 0.9700\n",
      "Epoch 13/150\n",
      "14/14 [==============================] - 0s 24ms/step - loss: 0.3391 - accuracy: 0.9400 - val_loss: 0.2468 - val_accuracy: 0.9750\n",
      "Epoch 14/150\n",
      "14/14 [==============================] - 0s 24ms/step - loss: 0.3137 - accuracy: 0.9429 - val_loss: 0.2272 - val_accuracy: 0.9650\n",
      "Epoch 15/150\n",
      "14/14 [==============================] - 0s 24ms/step - loss: 0.3026 - accuracy: 0.9371 - val_loss: 0.2110 - val_accuracy: 0.9750\n",
      "Epoch 16/150\n",
      "14/14 [==============================] - 0s 23ms/step - loss: 0.2696 - accuracy: 0.9529 - val_loss: 0.1969 - val_accuracy: 0.9750\n",
      "Epoch 17/150\n",
      "14/14 [==============================] - 0s 23ms/step - loss: 0.2422 - accuracy: 0.9586 - val_loss: 0.1894 - val_accuracy: 0.9700\n",
      "Epoch 18/150\n",
      "14/14 [==============================] - 0s 25ms/step - loss: 0.2391 - accuracy: 0.9486 - val_loss: 0.1725 - val_accuracy: 0.9750\n",
      "Epoch 19/150\n",
      "14/14 [==============================] - 0s 25ms/step - loss: 0.2149 - accuracy: 0.9600 - val_loss: 0.1598 - val_accuracy: 0.9700\n",
      "Epoch 20/150\n",
      "14/14 [==============================] - 0s 24ms/step - loss: 0.2087 - accuracy: 0.9714 - val_loss: 0.1601 - val_accuracy: 0.9750\n",
      "Epoch 21/150\n",
      "14/14 [==============================] - 0s 24ms/step - loss: 0.1867 - accuracy: 0.9643 - val_loss: 0.1482 - val_accuracy: 0.9750\n",
      "Epoch 22/150\n",
      "14/14 [==============================] - 0s 24ms/step - loss: 0.1764 - accuracy: 0.9729 - val_loss: 0.1400 - val_accuracy: 0.9750\n",
      "Epoch 23/150\n",
      "14/14 [==============================] - 0s 25ms/step - loss: 0.1926 - accuracy: 0.9571 - val_loss: 0.1730 - val_accuracy: 0.9500\n",
      "Epoch 24/150\n",
      "14/14 [==============================] - 0s 25ms/step - loss: 0.1950 - accuracy: 0.9514 - val_loss: 0.1262 - val_accuracy: 0.9700\n",
      "Epoch 25/150\n",
      "14/14 [==============================] - 0s 24ms/step - loss: 0.1471 - accuracy: 0.9714 - val_loss: 0.1246 - val_accuracy: 0.9750\n",
      "Epoch 26/150\n",
      "14/14 [==============================] - 0s 23ms/step - loss: 0.1536 - accuracy: 0.9729 - val_loss: 0.1209 - val_accuracy: 0.9750\n",
      "Epoch 27/150\n",
      "14/14 [==============================] - 0s 24ms/step - loss: 0.1411 - accuracy: 0.9757 - val_loss: 0.1221 - val_accuracy: 0.9700\n",
      "Epoch 28/150\n",
      "14/14 [==============================] - 0s 25ms/step - loss: 0.1310 - accuracy: 0.9743 - val_loss: 0.1177 - val_accuracy: 0.9800\n",
      "Epoch 29/150\n",
      "14/14 [==============================] - 0s 25ms/step - loss: 0.1344 - accuracy: 0.9786 - val_loss: 0.1082 - val_accuracy: 0.9700\n",
      "Epoch 30/150\n",
      "14/14 [==============================] - 0s 24ms/step - loss: 0.1144 - accuracy: 0.9829 - val_loss: 0.1103 - val_accuracy: 0.9700\n",
      "Epoch 31/150\n",
      "14/14 [==============================] - 0s 24ms/step - loss: 0.1193 - accuracy: 0.9771 - val_loss: 0.1139 - val_accuracy: 0.9700\n",
      "Epoch 32/150\n",
      "14/14 [==============================] - 0s 24ms/step - loss: 0.1175 - accuracy: 0.9729 - val_loss: 0.1025 - val_accuracy: 0.9750\n",
      "Epoch 33/150\n",
      "14/14 [==============================] - 0s 25ms/step - loss: 0.1104 - accuracy: 0.9800 - val_loss: 0.1008 - val_accuracy: 0.9750\n",
      "Epoch 34/150\n",
      "14/14 [==============================] - 0s 24ms/step - loss: 0.1027 - accuracy: 0.9814 - val_loss: 0.0979 - val_accuracy: 0.9750\n",
      "Epoch 35/150\n",
      "14/14 [==============================] - 0s 25ms/step - loss: 0.0945 - accuracy: 0.9800 - val_loss: 0.0980 - val_accuracy: 0.9850\n",
      "Epoch 36/150\n",
      "14/14 [==============================] - 0s 24ms/step - loss: 0.1084 - accuracy: 0.9714 - val_loss: 0.1036 - val_accuracy: 0.9750\n",
      "Epoch 37/150\n",
      "14/14 [==============================] - 0s 24ms/step - loss: 0.1003 - accuracy: 0.9743 - val_loss: 0.1026 - val_accuracy: 0.9750\n",
      "Epoch 38/150\n",
      "14/14 [==============================] - 0s 23ms/step - loss: 0.1023 - accuracy: 0.9786 - val_loss: 0.0899 - val_accuracy: 0.9750\n",
      "Epoch 39/150\n",
      "14/14 [==============================] - 0s 24ms/step - loss: 0.0862 - accuracy: 0.9814 - val_loss: 0.0912 - val_accuracy: 0.9750\n",
      "Epoch 40/150\n",
      "14/14 [==============================] - 0s 25ms/step - loss: 0.1071 - accuracy: 0.9800 - val_loss: 0.0943 - val_accuracy: 0.9750\n",
      "Epoch 41/150\n",
      "14/14 [==============================] - 0s 24ms/step - loss: 0.0815 - accuracy: 0.9857 - val_loss: 0.0850 - val_accuracy: 0.9800\n",
      "Epoch 42/150\n",
      "14/14 [==============================] - 0s 24ms/step - loss: 0.0724 - accuracy: 0.9900 - val_loss: 0.0857 - val_accuracy: 0.9800\n",
      "Epoch 43/150\n",
      "14/14 [==============================] - 0s 25ms/step - loss: 0.0783 - accuracy: 0.9829 - val_loss: 0.0861 - val_accuracy: 0.9850\n",
      "Epoch 44/150\n",
      "14/14 [==============================] - 0s 25ms/step - loss: 0.0805 - accuracy: 0.9771 - val_loss: 0.0815 - val_accuracy: 0.9900\n",
      "Epoch 45/150\n",
      "14/14 [==============================] - 0s 28ms/step - loss: 0.0794 - accuracy: 0.9857 - val_loss: 0.1322 - val_accuracy: 0.9600\n",
      "Epoch 46/150\n",
      "14/14 [==============================] - 0s 32ms/step - loss: 0.0835 - accuracy: 0.9800 - val_loss: 0.1173 - val_accuracy: 0.9650\n",
      "Epoch 47/150\n",
      "14/14 [==============================] - 1s 37ms/step - loss: 0.0769 - accuracy: 0.9843 - val_loss: 0.0785 - val_accuracy: 0.9900\n",
      "Epoch 48/150\n",
      "14/14 [==============================] - 1s 45ms/step - loss: 0.0663 - accuracy: 0.9886 - val_loss: 0.0780 - val_accuracy: 0.9900\n",
      "Epoch 49/150\n",
      "14/14 [==============================] - 1s 37ms/step - loss: 0.0695 - accuracy: 0.9843 - val_loss: 0.0769 - val_accuracy: 0.9900\n",
      "Epoch 50/150\n",
      "14/14 [==============================] - 0s 30ms/step - loss: 0.0574 - accuracy: 0.9900 - val_loss: 0.0787 - val_accuracy: 0.9850\n",
      "Epoch 51/150\n",
      "14/14 [==============================] - 0s 33ms/step - loss: 0.0523 - accuracy: 0.9929 - val_loss: 0.0792 - val_accuracy: 0.9800\n",
      "Epoch 52/150\n",
      "14/14 [==============================] - 1s 38ms/step - loss: 0.0629 - accuracy: 0.9857 - val_loss: 0.0815 - val_accuracy: 0.9800\n",
      "Epoch 53/150\n",
      "14/14 [==============================] - 0s 33ms/step - loss: 0.0592 - accuracy: 0.9914 - val_loss: 0.0867 - val_accuracy: 0.9750\n",
      "Epoch 54/150\n",
      "14/14 [==============================] - 1s 38ms/step - loss: 0.0639 - accuracy: 0.9857 - val_loss: 0.0873 - val_accuracy: 0.9800\n",
      "Epoch 55/150\n",
      "14/14 [==============================] - 0s 32ms/step - loss: 0.0560 - accuracy: 0.9900 - val_loss: 0.0804 - val_accuracy: 0.9800\n",
      "Epoch 56/150\n",
      "14/14 [==============================] - 1s 39ms/step - loss: 0.0607 - accuracy: 0.9857 - val_loss: 0.1057 - val_accuracy: 0.9650\n",
      "Epoch 57/150\n",
      "14/14 [==============================] - 0s 26ms/step - loss: 0.0753 - accuracy: 0.9771 - val_loss: 0.1028 - val_accuracy: 0.9700\n",
      "Epoch 58/150\n",
      "14/14 [==============================] - 0s 24ms/step - loss: 0.0498 - accuracy: 0.9900 - val_loss: 0.0736 - val_accuracy: 0.9850\n",
      "Epoch 59/150\n",
      "14/14 [==============================] - 0s 25ms/step - loss: 0.0507 - accuracy: 0.9900 - val_loss: 0.0699 - val_accuracy: 0.9900\n",
      "Epoch 60/150\n",
      "14/14 [==============================] - 0s 24ms/step - loss: 0.0485 - accuracy: 0.9843 - val_loss: 0.0700 - val_accuracy: 0.9900\n",
      "Epoch 61/150\n",
      "14/14 [==============================] - 0s 24ms/step - loss: 0.0530 - accuracy: 0.9900 - val_loss: 0.0793 - val_accuracy: 0.9850\n",
      "Epoch 62/150\n",
      "14/14 [==============================] - 0s 24ms/step - loss: 0.0453 - accuracy: 0.9914 - val_loss: 0.0712 - val_accuracy: 0.9900\n",
      "Epoch 63/150\n",
      "14/14 [==============================] - 0s 25ms/step - loss: 0.0366 - accuracy: 0.9957 - val_loss: 0.0704 - val_accuracy: 0.9900\n",
      "Epoch 64/150\n",
      "14/14 [==============================] - 0s 31ms/step - loss: 0.0376 - accuracy: 0.9957 - val_loss: 0.0725 - val_accuracy: 0.9850\n",
      "Epoch 65/150\n",
      "14/14 [==============================] - 0s 24ms/step - loss: 0.0395 - accuracy: 0.9943 - val_loss: 0.0711 - val_accuracy: 0.9900\n",
      "Epoch 66/150\n",
      "14/14 [==============================] - 0s 24ms/step - loss: 0.0359 - accuracy: 0.9943 - val_loss: 0.0739 - val_accuracy: 0.9850\n",
      "Epoch 67/150\n",
      "14/14 [==============================] - 0s 25ms/step - loss: 0.0373 - accuracy: 0.9943 - val_loss: 0.0724 - val_accuracy: 0.9900\n",
      "Epoch 68/150\n",
      "14/14 [==============================] - 0s 25ms/step - loss: 0.0363 - accuracy: 0.9943 - val_loss: 0.0724 - val_accuracy: 0.9900\n",
      "Epoch 69/150\n",
      "14/14 [==============================] - 0s 25ms/step - loss: 0.0369 - accuracy: 0.9957 - val_loss: 0.0787 - val_accuracy: 0.9850\n",
      "Epoch 70/150\n",
      "14/14 [==============================] - 1s 44ms/step - loss: 0.0347 - accuracy: 0.9900 - val_loss: 0.0750 - val_accuracy: 0.9850\n",
      "Epoch 71/150\n",
      "14/14 [==============================] - 0s 24ms/step - loss: 0.0380 - accuracy: 0.9929 - val_loss: 0.0716 - val_accuracy: 0.9900\n",
      "Epoch 72/150\n",
      "14/14 [==============================] - 1s 40ms/step - loss: 0.0274 - accuracy: 0.9986 - val_loss: 0.0747 - val_accuracy: 0.9850\n",
      "Epoch 73/150\n",
      "14/14 [==============================] - 0s 30ms/step - loss: 0.0256 - accuracy: 0.9971 - val_loss: 0.0713 - val_accuracy: 0.9900\n",
      "Epoch 74/150\n",
      "14/14 [==============================] - 0s 23ms/step - loss: 0.0334 - accuracy: 0.9943 - val_loss: 0.0730 - val_accuracy: 0.9850\n",
      "Epoch 75/150\n",
      "14/14 [==============================] - 0s 25ms/step - loss: 0.0281 - accuracy: 0.9957 - val_loss: 0.0729 - val_accuracy: 0.9850\n",
      "Epoch 76/150\n",
      "14/14 [==============================] - 0s 24ms/step - loss: 0.0352 - accuracy: 0.9900 - val_loss: 0.0700 - val_accuracy: 0.9900\n",
      "Epoch 77/150\n",
      "14/14 [==============================] - 0s 24ms/step - loss: 0.0320 - accuracy: 0.9943 - val_loss: 0.0719 - val_accuracy: 0.9900\n",
      "Epoch 78/150\n",
      "14/14 [==============================] - 0s 25ms/step - loss: 0.0253 - accuracy: 0.9957 - val_loss: 0.0711 - val_accuracy: 0.9900\n",
      "Epoch 79/150\n",
      "14/14 [==============================] - 0s 24ms/step - loss: 0.0297 - accuracy: 0.9929 - val_loss: 0.0711 - val_accuracy: 0.9850\n",
      "Epoch 80/150\n",
      "14/14 [==============================] - 0s 23ms/step - loss: 0.0417 - accuracy: 0.9871 - val_loss: 0.0925 - val_accuracy: 0.9750\n",
      "Epoch 81/150\n",
      "14/14 [==============================] - 0s 25ms/step - loss: 0.0201 - accuracy: 0.9971 - val_loss: 0.0714 - val_accuracy: 0.9900\n",
      "Epoch 82/150\n",
      "14/14 [==============================] - 0s 24ms/step - loss: 0.0263 - accuracy: 0.9914 - val_loss: 0.0713 - val_accuracy: 0.9900\n",
      "Epoch 83/150\n",
      "14/14 [==============================] - 0s 24ms/step - loss: 0.0385 - accuracy: 0.9900 - val_loss: 0.0744 - val_accuracy: 0.9850\n",
      "Epoch 84/150\n",
      "14/14 [==============================] - 0s 25ms/step - loss: 0.0317 - accuracy: 0.9914 - val_loss: 0.0721 - val_accuracy: 0.9850\n",
      "Epoch 85/150\n",
      "14/14 [==============================] - 0s 25ms/step - loss: 0.0245 - accuracy: 0.9957 - val_loss: 0.0712 - val_accuracy: 0.9850\n",
      "Epoch 86/150\n",
      "14/14 [==============================] - 0s 26ms/step - loss: 0.0294 - accuracy: 0.9986 - val_loss: 0.0749 - val_accuracy: 0.9850\n",
      "Epoch 87/150\n",
      "14/14 [==============================] - 0s 26ms/step - loss: 0.0227 - accuracy: 0.9943 - val_loss: 0.0769 - val_accuracy: 0.9850\n",
      "Epoch 88/150\n",
      "14/14 [==============================] - 0s 25ms/step - loss: 0.0335 - accuracy: 0.9929 - val_loss: 0.0729 - val_accuracy: 0.9900\n",
      "Epoch 89/150\n",
      "14/14 [==============================] - 0s 26ms/step - loss: 0.0248 - accuracy: 0.9971 - val_loss: 0.0757 - val_accuracy: 0.9850\n",
      "Epoch 90/150\n",
      "14/14 [==============================] - 0s 25ms/step - loss: 0.0216 - accuracy: 0.9971 - val_loss: 0.0725 - val_accuracy: 0.9850\n",
      "Epoch 91/150\n",
      "14/14 [==============================] - 0s 25ms/step - loss: 0.0255 - accuracy: 0.9943 - val_loss: 0.0726 - val_accuracy: 0.9850\n",
      "Epoch 92/150\n",
      "14/14 [==============================] - 0s 25ms/step - loss: 0.0243 - accuracy: 0.9971 - val_loss: 0.0819 - val_accuracy: 0.9850\n",
      "Epoch 93/150\n",
      "14/14 [==============================] - 0s 24ms/step - loss: 0.0324 - accuracy: 0.9871 - val_loss: 0.0956 - val_accuracy: 0.9750\n",
      "Epoch 94/150\n",
      "14/14 [==============================] - 0s 25ms/step - loss: 0.0211 - accuracy: 0.9971 - val_loss: 0.0766 - val_accuracy: 0.9850\n",
      "Epoch 95/150\n",
      "14/14 [==============================] - 0s 32ms/step - loss: 0.0269 - accuracy: 0.9943 - val_loss: 0.0806 - val_accuracy: 0.9850\n",
      "Epoch 96/150\n",
      "14/14 [==============================] - 0s 32ms/step - loss: 0.0206 - accuracy: 0.9957 - val_loss: 0.0806 - val_accuracy: 0.9850\n",
      "Epoch 97/150\n",
      "14/14 [==============================] - 0s 30ms/step - loss: 0.0203 - accuracy: 0.9971 - val_loss: 0.0833 - val_accuracy: 0.9850\n",
      "Epoch 98/150\n",
      "14/14 [==============================] - 0s 31ms/step - loss: 0.0318 - accuracy: 0.9914 - val_loss: 0.0970 - val_accuracy: 0.9750\n",
      "Epoch 99/150\n",
      "14/14 [==============================] - 0s 23ms/step - loss: 0.0186 - accuracy: 0.9986 - val_loss: 0.0725 - val_accuracy: 0.9850\n",
      "Epoch 100/150\n",
      "14/14 [==============================] - 0s 24ms/step - loss: 0.0356 - accuracy: 0.9857 - val_loss: 0.0751 - val_accuracy: 0.9850\n",
      "Epoch 101/150\n",
      "14/14 [==============================] - 0s 25ms/step - loss: 0.0398 - accuracy: 0.9857 - val_loss: 0.0871 - val_accuracy: 0.9850\n",
      "Epoch 102/150\n",
      "14/14 [==============================] - 0s 25ms/step - loss: 0.0176 - accuracy: 1.0000 - val_loss: 0.0765 - val_accuracy: 0.9850\n",
      "Epoch 103/150\n",
      "14/14 [==============================] - 0s 25ms/step - loss: 0.0256 - accuracy: 0.9943 - val_loss: 0.0771 - val_accuracy: 0.9800\n",
      "Epoch 104/150\n",
      "14/14 [==============================] - 0s 24ms/step - loss: 0.0223 - accuracy: 0.9957 - val_loss: 0.0811 - val_accuracy: 0.9850\n",
      "Epoch 105/150\n",
      "14/14 [==============================] - 0s 24ms/step - loss: 0.0169 - accuracy: 0.9986 - val_loss: 0.0759 - val_accuracy: 0.9850\n",
      "Epoch 106/150\n",
      "14/14 [==============================] - 0s 25ms/step - loss: 0.0148 - accuracy: 1.0000 - val_loss: 0.0793 - val_accuracy: 0.9850\n",
      "Epoch 107/150\n",
      "14/14 [==============================] - 0s 25ms/step - loss: 0.0200 - accuracy: 0.9957 - val_loss: 0.0777 - val_accuracy: 0.9850\n",
      "Epoch 108/150\n",
      "14/14 [==============================] - 0s 24ms/step - loss: 0.0136 - accuracy: 0.9986 - val_loss: 0.0762 - val_accuracy: 0.9800\n",
      "Epoch 109/150\n",
      "14/14 [==============================] - 0s 25ms/step - loss: 0.0142 - accuracy: 1.0000 - val_loss: 0.0860 - val_accuracy: 0.9850\n",
      "Epoch 110/150\n",
      "14/14 [==============================] - 0s 24ms/step - loss: 0.0188 - accuracy: 0.9971 - val_loss: 0.0783 - val_accuracy: 0.9850\n",
      "Epoch 111/150\n",
      "14/14 [==============================] - 0s 25ms/step - loss: 0.0149 - accuracy: 0.9986 - val_loss: 0.0774 - val_accuracy: 0.9850\n",
      "Epoch 112/150\n",
      "14/14 [==============================] - 0s 25ms/step - loss: 0.0121 - accuracy: 0.9986 - val_loss: 0.0786 - val_accuracy: 0.9850\n",
      "Epoch 113/150\n",
      "14/14 [==============================] - 0s 25ms/step - loss: 0.0186 - accuracy: 0.9929 - val_loss: 0.0811 - val_accuracy: 0.9850\n",
      "Epoch 114/150\n",
      "14/14 [==============================] - 0s 26ms/step - loss: 0.0213 - accuracy: 0.9943 - val_loss: 0.0788 - val_accuracy: 0.9850\n",
      "Epoch 115/150\n",
      "14/14 [==============================] - 0s 25ms/step - loss: 0.0191 - accuracy: 0.9943 - val_loss: 0.0776 - val_accuracy: 0.9850\n",
      "Epoch 116/150\n",
      "14/14 [==============================] - 0s 23ms/step - loss: 0.0201 - accuracy: 0.9957 - val_loss: 0.0950 - val_accuracy: 0.9850\n",
      "Epoch 117/150\n",
      "14/14 [==============================] - 0s 24ms/step - loss: 0.0210 - accuracy: 0.9971 - val_loss: 0.0937 - val_accuracy: 0.9850\n",
      "Epoch 118/150\n",
      "14/14 [==============================] - 0s 25ms/step - loss: 0.0204 - accuracy: 0.9957 - val_loss: 0.1151 - val_accuracy: 0.9700\n",
      "Epoch 119/150\n",
      "14/14 [==============================] - 0s 23ms/step - loss: 0.0221 - accuracy: 0.9914 - val_loss: 0.0791 - val_accuracy: 0.9850\n",
      "Epoch 120/150\n",
      "14/14 [==============================] - 0s 24ms/step - loss: 0.0214 - accuracy: 0.9929 - val_loss: 0.0852 - val_accuracy: 0.9850\n",
      "Epoch 121/150\n",
      "14/14 [==============================] - 0s 24ms/step - loss: 0.0303 - accuracy: 0.9900 - val_loss: 0.0829 - val_accuracy: 0.9850\n",
      "Epoch 122/150\n",
      "14/14 [==============================] - 0s 23ms/step - loss: 0.0173 - accuracy: 0.9971 - val_loss: 0.0782 - val_accuracy: 0.9800\n",
      "Epoch 123/150\n",
      "14/14 [==============================] - 0s 25ms/step - loss: 0.0120 - accuracy: 0.9971 - val_loss: 0.0821 - val_accuracy: 0.9850\n",
      "Epoch 124/150\n",
      "14/14 [==============================] - 0s 24ms/step - loss: 0.0157 - accuracy: 0.9957 - val_loss: 0.0812 - val_accuracy: 0.9850\n",
      "Epoch 125/150\n",
      "14/14 [==============================] - 0s 24ms/step - loss: 0.0135 - accuracy: 0.9971 - val_loss: 0.0785 - val_accuracy: 0.9850\n",
      "Epoch 126/150\n",
      "14/14 [==============================] - 0s 24ms/step - loss: 0.0103 - accuracy: 0.9986 - val_loss: 0.0810 - val_accuracy: 0.9850\n",
      "Epoch 127/150\n",
      "14/14 [==============================] - 0s 23ms/step - loss: 0.0129 - accuracy: 0.9986 - val_loss: 0.0815 - val_accuracy: 0.9850\n",
      "Epoch 128/150\n",
      "14/14 [==============================] - 0s 24ms/step - loss: 0.0072 - accuracy: 1.0000 - val_loss: 0.0796 - val_accuracy: 0.9850\n",
      "Epoch 129/150\n",
      "14/14 [==============================] - 0s 25ms/step - loss: 0.0072 - accuracy: 1.0000 - val_loss: 0.0849 - val_accuracy: 0.9850\n",
      "Epoch 130/150\n",
      "14/14 [==============================] - 0s 24ms/step - loss: 0.0203 - accuracy: 0.9943 - val_loss: 0.0891 - val_accuracy: 0.9850\n",
      "Epoch 131/150\n",
      "14/14 [==============================] - 0s 24ms/step - loss: 0.0114 - accuracy: 1.0000 - val_loss: 0.0811 - val_accuracy: 0.9850\n",
      "Epoch 132/150\n",
      "14/14 [==============================] - 0s 24ms/step - loss: 0.0140 - accuracy: 0.9971 - val_loss: 0.0872 - val_accuracy: 0.9850\n",
      "Epoch 133/150\n",
      "14/14 [==============================] - 0s 25ms/step - loss: 0.0159 - accuracy: 0.9971 - val_loss: 0.0778 - val_accuracy: 0.9850\n",
      "Epoch 134/150\n",
      "14/14 [==============================] - 0s 25ms/step - loss: 0.0122 - accuracy: 0.9971 - val_loss: 0.0763 - val_accuracy: 0.9850\n",
      "Epoch 135/150\n",
      "14/14 [==============================] - 0s 29ms/step - loss: 0.0133 - accuracy: 0.9957 - val_loss: 0.0890 - val_accuracy: 0.9850\n",
      "Epoch 136/150\n",
      "14/14 [==============================] - 0s 25ms/step - loss: 0.0183 - accuracy: 0.9943 - val_loss: 0.0786 - val_accuracy: 0.9850\n",
      "Epoch 137/150\n",
      "14/14 [==============================] - 0s 25ms/step - loss: 0.0224 - accuracy: 0.9929 - val_loss: 0.0945 - val_accuracy: 0.9750\n",
      "Epoch 138/150\n",
      "14/14 [==============================] - 0s 24ms/step - loss: 0.0290 - accuracy: 0.9886 - val_loss: 0.0952 - val_accuracy: 0.9800\n",
      "Epoch 139/150\n",
      "14/14 [==============================] - 0s 24ms/step - loss: 0.0205 - accuracy: 0.9929 - val_loss: 0.0824 - val_accuracy: 0.9850\n",
      "Epoch 140/150\n",
      "14/14 [==============================] - 0s 24ms/step - loss: 0.0266 - accuracy: 0.9900 - val_loss: 0.0870 - val_accuracy: 0.9800\n",
      "Epoch 141/150\n",
      "14/14 [==============================] - 0s 24ms/step - loss: 0.0171 - accuracy: 0.9971 - val_loss: 0.1202 - val_accuracy: 0.9650\n",
      "Epoch 142/150\n",
      "14/14 [==============================] - 0s 24ms/step - loss: 0.0127 - accuracy: 0.9957 - val_loss: 0.0802 - val_accuracy: 0.9800\n",
      "Epoch 143/150\n",
      "14/14 [==============================] - 0s 24ms/step - loss: 0.0147 - accuracy: 0.9971 - val_loss: 0.0867 - val_accuracy: 0.9850\n",
      "Epoch 144/150\n",
      "14/14 [==============================] - 0s 25ms/step - loss: 0.0192 - accuracy: 0.9971 - val_loss: 0.0902 - val_accuracy: 0.9850\n",
      "Epoch 145/150\n",
      "14/14 [==============================] - 0s 23ms/step - loss: 0.0062 - accuracy: 1.0000 - val_loss: 0.0809 - val_accuracy: 0.9850\n",
      "Epoch 146/150\n",
      "14/14 [==============================] - 0s 24ms/step - loss: 0.0072 - accuracy: 1.0000 - val_loss: 0.1021 - val_accuracy: 0.9850\n",
      "Epoch 147/150\n",
      "14/14 [==============================] - 0s 24ms/step - loss: 0.0060 - accuracy: 1.0000 - val_loss: 0.0830 - val_accuracy: 0.9850\n",
      "Epoch 148/150\n",
      "14/14 [==============================] - 0s 24ms/step - loss: 0.0144 - accuracy: 0.9986 - val_loss: 0.1070 - val_accuracy: 0.9700\n",
      "Epoch 149/150\n",
      "14/14 [==============================] - 0s 25ms/step - loss: 0.0137 - accuracy: 0.9957 - val_loss: 0.0889 - val_accuracy: 0.9800\n",
      "Epoch 150/150\n",
      "14/14 [==============================] - 0s 25ms/step - loss: 0.0132 - accuracy: 0.9957 - val_loss: 0.0930 - val_accuracy: 0.9850\n"
     ]
    }
   ],
   "source": [
    "model.compile(loss='categorical_crossentropy', optimizer='adam', metrics=['accuracy'])\n",
    "history = model.fit(x_train, y_train_one_hot,\n",
    "                    batch_size=50,\n",
    "                    epochs=150,\n",
    "                    verbose=1,\n",
    "                    validation_data=(x_vali, y_vali_one_hot))\n",
    "score = model.evaluate(x_test, y_test_one_hot, verbose=0)"
   ]
  },
  {
   "cell_type": "markdown",
   "metadata": {
    "id": "-dNYfukIvxcB"
   },
   "source": [
    "We check the value of the loss function for test data and plot how loss functions for training data and validation data change as the model learnes."
   ]
  },
  {
   "cell_type": "code",
   "execution_count": 17,
   "metadata": {
    "colab": {
     "base_uri": "https://localhost:8080/",
     "height": 313
    },
    "id": "ERJryRkih0ii",
    "outputId": "94d461df-8379-48fe-9d7b-0d09cbc39347"
   },
   "outputs": [
    {
     "name": "stdout",
     "output_type": "stream",
     "text": [
      "The loss function for test data: 0.025739474222064018\n"
     ]
    },
    {
     "data": {
      "image/png": "[encoded data removed]",
      "text/plain": [
       "<Figure size 432x288 with 1 Axes>"
      ]
     },
     "metadata": {
      "needs_background": "light"
     },
     "output_type": "display_data"
    }
   ],
   "source": [
    "print('The loss function for test data:', score[0])\n",
    "plt.plot(history.history['loss'], marker='.', label='loss')\n",
    "plt.plot(history.history['val_loss'], marker='.', label='val_loss')\n",
    "plt.title('model loss')\n",
    "plt.grid()\n",
    "plt.xlabel('epoch')\n",
    "plt.ylabel('loss')\n",
    "plt.legend(loc='best')\n",
    "plt.show()"
   ]
  },
  {
   "cell_type": "markdown",
   "metadata": {
    "id": "IcEeQgUGwTXH"
   },
   "source": [
    "We also check how the model accuracy varies."
   ]
  },
  {
   "cell_type": "code",
   "execution_count": 18,
   "metadata": {
    "colab": {
     "base_uri": "https://localhost:8080/",
     "height": 295
    },
    "id": "Pqmel3WFz1ex",
    "outputId": "7b106626-5891-469e-e401-a22212d35a29"
   },
   "outputs": [
    {
     "data": {
      "image/png": "[encoded data removed]",
      "text/plain": [
       "<Figure size 432x288 with 1 Axes>"
      ]
     },
     "metadata": {
      "needs_background": "light"
     },
     "output_type": "display_data"
    }
   ],
   "source": [
    "plt.plot(history.history['accuracy'], marker='.', label='accuracy')\n",
    "plt.plot(history.history['val_accuracy'], marker='.', label='val_accuracy')\n",
    "plt.title('model accuracy')\n",
    "plt.grid()\n",
    "plt.xlabel('epoch')\n",
    "plt.ylabel('accuracy')\n",
    "plt.legend(loc='best')\n",
    "plt.show()"
   ]
  },
  {
   "cell_type": "markdown",
   "metadata": {
    "id": "h5XYjIcGwtC4"
   },
   "source": [
    "We see the model accuracy for test data. "
   ]
  },
  {
   "cell_type": "code",
   "execution_count": 19,
   "metadata": {
    "colab": {
     "base_uri": "https://localhost:8080/"
    },
    "id": "fzRr_3qRwkz0",
    "outputId": "44be2d18-d73e-4575-bb7c-bff345abac62"
   },
   "outputs": [
    {
     "name": "stdout",
     "output_type": "stream",
     "text": [
      "The accuracy for test data: 0.9900000095367432\n"
     ]
    }
   ],
   "source": [
    "print('The accuracy for test data:', score[1])"
   ]
  },
  {
   "cell_type": "markdown",
   "metadata": {
    "id": "PhTTgxlvdumB"
   },
   "source": [
    "Let's print some results of the predicting of DL. The title of each image shows the prediction and the blue (red) color of the title means the correct (incorrect) prediction. DL returns right answers for almost all images."
   ]
  },
  {
   "cell_type": "code",
   "execution_count": 20,
   "metadata": {
    "colab": {
     "base_uri": "https://localhost:8080/",
     "height": 528
    },
    "id": "k-X-G1jKPfH4",
    "outputId": "b371d5ff-402f-41a8-d3ed-57ff9abf3d09"
   },
   "outputs": [
    {
     "data": {
      "image/png": "[encoded data removed]",
      "text/plain": [
       "<Figure size 720x576 with 12 Axes>"
      ]
     },
     "metadata": {
      "needs_background": "light"
     },
     "output_type": "display_data"
    }
   ],
   "source": [
    "# calculating the prediction for test data\n",
    "y_pred_one_hot = model.predict(x_test)\n",
    "max_pred_index = np.argmax(y_pred_one_hot, axis=1)\n",
    "max_test_index = np.argmax(y_test_one_hot, axis=1)\n",
    "\n",
    "# showing some images with predicted values\n",
    "num_rows = 3\n",
    "num_cols = 4\n",
    "plt.figure(figsize=(10,8))\n",
    "plt.subplots_adjust( wspace = 0.5,hspace=0.7)\n",
    "\n",
    "k = 0\n",
    "plot_index = 1\n",
    "for i in range(num_rows):\n",
    "  for j in range(num_cols):\n",
    "    plt.subplot(num_rows,num_cols,plot_index)\n",
    "     \n",
    "    plt.xlabel(r\"$x$\")\n",
    "    plt.ylabel(r\"$y$\",rotation = \"horizontal\",labelpad=10)\n",
    "    plt.imshow(x_test[k,:,:,0].reshape(200,200), cmap=plt.cm.gray_r,origin='lower') \n",
    "    if max_pred_index[k] == max_test_index[k]:\n",
    "      title_color = \"blue\"\n",
    "    else:\n",
    "      title_color = \"red\"\n",
    "    plt.title(f\"Predicted answer:\\n\"r\"$\\lambda= $\"f\" {y_test[k]}\",color=title_color)\n",
    "    k += 1\n",
    "    plot_index += 1"
   ]
  }
 ],
 "metadata": {
  "accelerator": "GPU",
  "colab": {
   "background_execution": "on",
   "collapsed_sections": [],
   "name": "predict_lambda_using_xy_image.ipynb",
   "provenance": []
  },
  "kernelspec": {
   "display_name": "Python 3",
   "language": "python",
   "name": "python3"
  },
  "language_info": {
   "codemirror_mode": {
    "name": "ipython",
    "version": 3
   },
   "file_extension": ".py",
   "mimetype": "text/x-python",
   "name": "python",
   "nbconvert_exporter": "python",
   "pygments_lexer": "ipython3",
   "version": "3.8.6"
  }
 },
 "nbformat": 4,
 "nbformat_minor": 1
}
